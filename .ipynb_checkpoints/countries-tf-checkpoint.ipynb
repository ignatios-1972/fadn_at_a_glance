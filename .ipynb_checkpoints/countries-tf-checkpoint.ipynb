{
 "cells": [
  {
   "cell_type": "code",
   "execution_count": null,
   "metadata": {},
   "outputs": [],
   "source": [
    "#Resize  working window\n",
    "from IPython.display import display, HTML\n",
    "display(HTML(data=\"\"\"\n",
    "<style>\n",
    "    div#notebook-container    { width: 95%; }\n",
    "    div#menubar-container     { width: 65%; }\n",
    "    div#maintoolbar-container { width: 99%; }\n",
    "</style>\n",
    "\"\"\"))\n",
    "\n",
    "# Importing libraries needed to manipulate and visualizing data \n",
    "import pandas as pd\n",
    "import numpy as np\n",
    "import holoviews as hv\n",
    "from holoviews import opts, dim\n",
    "import panel as pn\n",
    "import panel.widgets as pnw\n",
    "pn.extension()\n",
    "hv.extension('bokeh')\n",
    "\n",
    "df0 = pd.read_csv('fadn_at_a_glance.csv')"
   ]
  },
  {
   "cell_type": "code",
   "execution_count": null,
   "metadata": {},
   "outputs": [],
   "source": [
    "tran_SYS03 = {'< 15': 0, '15 - <40': 1, '40 - <100': 2, '100 - <200': 3, '200 - <500': 4, '500 - <1000': 5,\n",
    "              '1000 - <2000': 6, '2000 - <3000': 7, '3000 - <4000': 8}\n",
    "rvs = {v: k for k, v in tran_SYS03.items()}"
   ]
  },
  {
   "cell_type": "code",
   "execution_count": null,
   "metadata": {},
   "outputs": [],
   "source": [
    "df0['pop_cat'] = df0['SYS03'].replace(tran_SYS03)"
   ]
  },
  {
   "cell_type": "code",
   "execution_count": null,
   "metadata": {},
   "outputs": [],
   "source": [
    "df1 = df0.groupby(['TF14', 'COUNTRY'])['pop_cat'].mean().reset_index()"
   ]
  },
  {
   "cell_type": "code",
   "execution_count": null,
   "metadata": {},
   "outputs": [],
   "source": [
    "df1['pop_cat'] = df1['pop_cat'].round()"
   ]
  },
  {
   "cell_type": "code",
   "execution_count": null,
   "metadata": {},
   "outputs": [],
   "source": [
    "df1['hols'] =  df1['pop_cat'].replace(rvs)"
   ]
  },
  {
   "cell_type": "code",
   "execution_count": null,
   "metadata": {},
   "outputs": [],
   "source": [
    "ds = hv.Dataset(df1, kdims=['TF14', 'COUNTRY'], vdims=['pop_cat','hols']).sort()"
   ]
  },
  {
   "cell_type": "code",
   "execution_count": null,
   "metadata": {
    "scrolled": false
   },
   "outputs": [],
   "source": [
    "heatmap = hv.HeatMap(ds)\n",
    "heatmap.opts(opts.HeatMap(cmap='coolwarm',height=500, width=500,xrotation=45,tools=['hover'],title='Click on cell for info'))\n",
    "posxy = hv.streams.Tap(source=heatmap, x='(16) Specialist other fieldcrops', y='(ELL) Greece')\n",
    "\n",
    "def tap_curves(x,y):\n",
    "    df2 = df0.query('COUNTRY == \"'+ y +'\" and TF14 ==\"' + x +'\"')\n",
    "    ds1 = hv.Dataset(df2, kdims=['TF14', 'COUNTRY'])\n",
    "    cur420 =  hv.Curve(ds1,'YEAR', 'SE420', label='SE420')\n",
    "    cur131 =  hv.Curve(ds1,'YEAR', 'SE131', label='SE131')\n",
    "    cur605 =  hv.Curve(ds1,'YEAR', 'SE605', label='SE605')\n",
    "    cur270 =  hv.Curve(ds1,'YEAR', 'SE270', label='SE270')\n",
    "    curves = (cur420 * cur131 * cur605 * cur270).relabel(y + ' -- ' + x).opts(height=300,width=500, ylabel='')\n",
    "    cur425 =  hv.Curve(ds1,'YEAR', 'SE425',label='SE425').opts(height=200,width=500)\n",
    "    cur011 =  hv.Curve(ds1,'YEAR', 'SE011',label='SE011').opts(height=200,width=500)\n",
    "    cur132 =  hv.Curve(ds1,'YEAR', 'SE132',label='SE132').opts(height=200,width=500)\n",
    "#     layout = (curves + cur425 + cur011 + cur132).cols(1)\n",
    "#     layout.opts(opts.Curve(framewise=True),\n",
    "#                 opts.Overlay(legend_position='top_left'))\n",
    "    return cur420\n",
    "\n",
    "# def tap_areas(x,y):\n",
    "#     df2 = df0.query('COUNTRY == \"'+ y +'\" and TF14 ==\"' + x +'\"')\n",
    "#     ds1 = hv.Dataset(df2, kdims=['TF14', 'COUNTRY'])\n",
    "#     over1 = hv.Area(ds1, 'YEAR','plus').relabel('SE(131+600+405)') * hv.Area(df2, 'YEAR','miners').opts(fill_alpha=0.5).relabel('SE(275+360+365)')\n",
    "#     cur1 = hv.Curve(ds1,'YEAR', 'SE420')\n",
    "#     over2 =  over1 * cur1\n",
    "#     ar281 = hv.Area(ds1, 'YEAR','SE281',label='SE281')\n",
    "#     ar336 = hv.Area(ds1, 'YEAR','SE336',label='SE336')\n",
    "#     ar360 = hv.Area(ds1, 'YEAR','SE360',label='SE360')\n",
    "#     ar370 = hv.Area(ds1, 'YEAR','SE370',label='SE370')\n",
    "#     ar375 = hv.Area(ds1, 'YEAR','SE375',label='SE375')\n",
    "#     ar380 = hv.Area(ds1, 'YEAR','SE380',label='SE380')\n",
    "#     over3 = hv.Area.stack(ar281 * ar336 * ar360 * ar370 * ar375 * ar380)\n",
    "\n",
    "#     ar135 = hv.Area(ds1, 'YEAR','SE135',label='SE135')\n",
    "#     ar206 = hv.Area(ds1, 'YEAR','SE206',label='SE206')\n",
    "#     ar256 = hv.Area(ds1, 'YEAR','SE256',label='SE256')\n",
    "#     ar600 = hv.Area(ds1, 'YEAR','SE600',label='SE600')\n",
    "#     ar405 = hv.Area(ds1, 'YEAR','SE405',label='SE405')\n",
    "#     over4 =  hv.Area.stack(ar135 * ar206 * ar256 * ar600 * ar405)\n",
    "#     layout = (over2 + over3 + over4).cols(1)\n",
    "#     layout.opts(opts.Curve(line_dash='dotted', color='g'),\n",
    "#                 opts.Area(framewise=True, ylabel='', xrotation=45, width=500),\n",
    "#                opts.Overlay(legend_position='top_left'))\n",
    "#     return layout\n",
    "\n",
    "# dmap1 = hv.DynamicMap(tap_curves, streams=[posxy])\n",
    "# dmap2 = hv.DynamicMap(tap_areas, streams=[posxy])\n",
    "\n",
    "pn.Row(hv.DynamicMap(tap_curves, streams=[posxy]),heatmap).servable()"
   ]
  },
  {
   "cell_type": "code",
   "execution_count": null,
   "metadata": {},
   "outputs": [],
   "source": []
  }
 ],
 "metadata": {
  "kernelspec": {
   "display_name": "Python 3",
   "language": "python",
   "name": "python3"
  },
  "language_info": {
   "codemirror_mode": {
    "name": "ipython",
    "version": 3
   },
   "file_extension": ".py",
   "mimetype": "text/x-python",
   "name": "python",
   "nbconvert_exporter": "python",
   "pygments_lexer": "ipython3",
   "version": "3.7.3"
  }
 },
 "nbformat": 4,
 "nbformat_minor": 4
}
