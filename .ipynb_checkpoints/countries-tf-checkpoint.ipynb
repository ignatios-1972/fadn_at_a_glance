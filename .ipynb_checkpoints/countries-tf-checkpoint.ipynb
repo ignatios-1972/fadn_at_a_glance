{
 "cells": [
  {
   "cell_type": "code",
   "execution_count": null,
   "metadata": {},
   "outputs": [],
   "source": [
    "import pandas as pd\n",
    "import numpy as np\n",
    "import holoviews as hv\n",
    "from holoviews import opts, dim\n",
    "import panel as pn\n",
    "import panel.widgets as pnw\n",
    "from bokeh.themes.theme import Theme\n",
    "pn.extension()\n",
    "hv.extension('bokeh')\n",
    "# theme = Theme(\n",
    "#     json = {\n",
    "#     \"attrs\": {\n",
    "#         \"Legend\": {\n",
    "#             \"spacing\": 8,\n",
    "#             \"glyph_width\": 15,\n",
    "\n",
    "#             \"label_standoff\": 8,\n",
    "#             \"label_text_color\": \"#FFFFFF\",\n",
    "#             \"label_text_font\": \"Helvetica\",\n",
    "#             \"label_text_font_size\": \"1.025em\",\n",
    "\n",
    "#             \"border_line_alpha\": 0,\n",
    "#             \"background_fill_alpha\": 0.15,\n",
    "#             \"background_fill_color\": \"#000000\"\n",
    "#         },\n",
    "\n",
    "#     }\n",
    "# })\n",
    "# hv.renderer('bokeh').theme = theme\n",
    "df0 = pd.read_csv('fadn_at_a_glance.csv')"
   ]
  },
  {
   "cell_type": "code",
   "execution_count": null,
   "metadata": {},
   "outputs": [],
   "source": [
    "names = {'SE011': 'Tot.Hours (hrs)', 'SE025': 'Tot. Area (ha)', 'SE080': 'Liv.Units (LU)', 'SE131': 'Tot.Out. (€)',\n",
    "         'SE132': 'T.Out/T.Costs (ratio)', 'SE135': 'Crop.Out (€)', 'SE136': 'Cr.Out/Ha (€/ha)', 'SE206': 'Liv.Out (€)',\n",
    "         'SE207': 'Lv.Out/L.Uni (€/LU)', 'SE256': 'Oth.Out (€)', 'SE270': 'Tot.Costs (€)', 'SE281': 'Tot.Spec.Costs (€)',\n",
    "         'SE336': 'Tot.Farm.Overheads (€)', 'SE360': 'Depreciation (€)', 'SE370': 'Wages (€)', 'SE375': 'Rent (€)', 'SE380': 'Interest (€)',\n",
    "         'SE420': 'Family Inc. (€)', 'SE436': 'Tot.Asse. (€)', 'SE441': 'Fixed Assets (€)', 'SE446': 'Land etc (€)',\n",
    "         'SE450': 'Buildings (€)', 'SE455': 'Machinery (€)', 'SE460': 'Br.liv (€)', 'SE465': 'Tot.cur.ass (€)',\n",
    "         'SE470': 'Non-br.liv (€)', 'SE475': 'Prod. stock', 'SE480': 'Oth. circul. (€)',\n",
    "         'SE600': 'Bal.Subs&Taxes (€)', 'SE605': 'Subsidies (€)'}"
   ]
  },
  {
   "cell_type": "code",
   "execution_count": null,
   "metadata": {},
   "outputs": [],
   "source": [
    "df1 = df0.groupby(['TF14', 'COUNTRY'])['mean_perc'].mean().reset_index()\n",
    "df1['mean_perc'] = df1.mean_perc.round(1)"
   ]
  },
  {
   "cell_type": "code",
   "execution_count": null,
   "metadata": {},
   "outputs": [],
   "source": [
    "ds = hv.Dataset(df1, kdims=['TF14', 'COUNTRY'], vdims=['mean_perc']).sort()"
   ]
  },
  {
   "cell_type": "code",
   "execution_count": null,
   "metadata": {
    "scrolled": false
   },
   "outputs": [],
   "source": [
    "heatmap = hv.HeatMap(ds)\n",
    "# levels = [0, 1, 5, 10, 20, 30, 40, 60]\n",
    "\n",
    "# heatmap.opts(color_levels=levels, color='mean_perc', cmap='coolwarm', height=500, width=500,\n",
    "#                     xrotation=45,tools=['hover'],title='Click on cell for info', colorbar=True)\n",
    "# posxy = hv.streams.Tap(source=heatmap, x='(16) Specialist other fieldcrops', y='(ELL) Greece')\n",
    "# over = heatmap * hv.Labels(heatmap).opts(text_font_size='6pt')\n",
    "# def tap_curves1(x,y):\n",
    "#     df2 = df0.query('COUNTRY == \"'+ y +'\" and TF14 ==\"' + x +'\"')\n",
    "#     ds1 = hv.Dataset(df2, kdims=['TF14', 'COUNTRY'])\n",
    "#     cur420 =  hv.Curve(ds1,'YEAR', 'SE420', label='Family Inc.(€)')\n",
    "#     cur131 =  hv.Curve(ds1,'YEAR', 'SE131', label='Tot. Out.(€)')\n",
    "#     cur605 =  hv.Curve(ds1,'YEAR', 'SE605', label='Subsidies(€)')\n",
    "#     cur270 =  hv.Curve(ds1,'YEAR', 'SE270', label='Tot. Costs(€)')\n",
    "#     curves = (cur420 * cur131 * cur605 * cur270).relabel(y + ' -- ' + x).opts(height=300,width=450, ylabel='')\n",
    "#     cur425 =  hv.Curve(ds1,'YEAR', 'SE425',label='Income/AWU(€)').opts(height=200,width=450)\n",
    "#     cur011 =  hv.Curve(ds1,'YEAR', 'SE011',label=names['SE011']).opts(height=200,width=450)\n",
    "#     cur132 =  hv.Curve(ds1,'YEAR', 'SE132',label=names['SE132']).opts(height=200,width=450)\n",
    "#     layout = (curves + cur425 + cur011 + cur132).cols(1)\n",
    "#     layout.opts(opts.Curve(framewise=True, tools=['hover'], show_grid=True, xticks=[year for year in range(2004,2019)], xrotation=45),\n",
    "#                 opts.Overlay(legend_position='top_left'))\n",
    "#     return cur420\n",
    "\n",
    "# def tap_curves2(x,y):\n",
    "#     df2 = df0.query('COUNTRY == \"'+ y +'\" and TF14 ==\"' + x +'\"')\n",
    "#     ds1 = hv.Dataset(df2, kdims=['TF14', 'COUNTRY'])\n",
    "#     cur136 =  hv.Curve(ds1,'YEAR', 'SE136', label=names['SE136']).opts(height=200,width=500)\n",
    "#     cur207 =  hv.Curve(ds1,'YEAR', 'SE207', label=names['SE207']).opts(height=200,width=500)\n",
    "#     layout = (cur136 + cur207).cols(1)\n",
    "#     layout.opts(opts.Curve(framewise=True, tools=['hover'], show_grid=True, xticks= 14))\n",
    "#     return layout\n",
    "\n",
    "# def tap_areas(x,y):\n",
    "#     df2 = df0.query('COUNTRY == \"'+ y +'\" and TF14 ==\"' + x +'\"')\n",
    "#     ds1 = hv.Dataset(df2, kdims=['TF14', 'COUNTRY'])\n",
    "#     over1 = hv.Area(ds1, 'YEAR','plus').relabel('SE(131+600+405)') * hv.Area(df2, 'YEAR','miners').opts(fill_alpha=0.5).relabel('SE(275+360+365)')\n",
    "#     cur1 = hv.Curve(ds1,'YEAR', 'SE420')\n",
    "#     over2 =  over1 * cur1\n",
    "#     ar281 = hv.Area(ds1, 'YEAR','SE281',label='SE281')\n",
    "#     ar336 = hv.Area(ds1, 'YEAR','SE336',label='SE336')\n",
    "#     ar360 = hv.Area(ds1, 'YEAR','SE360',label='SE360')\n",
    "#     ar370 = hv.Area(ds1, 'YEAR','SE370',label='SE370')\n",
    "#     ar375 = hv.Area(ds1, 'YEAR','SE375',label='SE375')\n",
    "#     ar380 = hv.Area(ds1, 'YEAR','SE380',label='SE380')\n",
    "#     over3 = hv.Area.stack(ar281 * ar336 * ar360 * ar370 * ar375 * ar380)\n",
    "\n",
    "#     ar135 = hv.Area(ds1, 'YEAR','SE135',label='SE135')\n",
    "#     ar206 = hv.Area(ds1, 'YEAR','SE206',label='SE206')\n",
    "#     ar256 = hv.Area(ds1, 'YEAR','SE256',label='SE256')\n",
    "#     ar600 = hv.Area(ds1, 'YEAR','SE600',label='SE600')\n",
    "#     ar405 = hv.Area(ds1, 'YEAR','SE405',label='SE405')\n",
    "#     over4 =  hv.Area.stack(ar135 * ar206 * ar256 * ar600 * ar405)\n",
    "#     layout = (over2 + over3 + over4).cols(1)\n",
    "#     layout.opts(opts.Curve(line_dash='dotted', color='g'),\n",
    "#                 opts.Area(framewise=True, ylabel='', xrotation=45, width=450),\n",
    "#                opts.Overlay(legend_position='top_left'))\n",
    "#     return layout\n",
    "# dmap = hv.DynamicMap(tap_curves1, streams=[posxy])\n",
    "\n",
    "\n",
    "pn.Pane(heatmap).servable()\n",
    "# dmap1 = hv.DynamicMap(tap_curves1, streams=[posxy])\n",
    "# dmap2 = hv.DynamicMap(tap_areas, streams=[posxy])\n",
    "# dmap3 = hv.DynamicMap(tap_curves2, streams=[posxy])\n",
    "\n",
    "# pn.Row(dmap1,pn.Column(over,dmap3),dmap2).show()"
   ]
  },
  {
   "cell_type": "code",
   "execution_count": null,
   "metadata": {},
   "outputs": [],
   "source": []
  }
 ],
 "metadata": {
  "kernelspec": {
   "display_name": "Python 3",
   "language": "python",
   "name": "python3"
  },
  "language_info": {
   "codemirror_mode": {
    "name": "ipython",
    "version": 3
   },
   "file_extension": ".py",
   "mimetype": "text/x-python",
   "name": "python",
   "nbconvert_exporter": "python",
   "pygments_lexer": "ipython3",
   "version": "3.7.3"
  }
 },
 "nbformat": 4,
 "nbformat_minor": 4
}
