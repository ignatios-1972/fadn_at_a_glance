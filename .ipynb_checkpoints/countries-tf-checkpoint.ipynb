{
 "cells": [
  {
   "cell_type": "code",
   "execution_count": null,
   "metadata": {},
   "outputs": [],
   "source": [
    "import pandas as pd\n",
    "import numpy as np\n",
    "import holoviews as hv\n",
    "from holoviews import opts\n",
    "import panel as pn\n",
    "import panel.widgets as pnw\n",
    "from bokeh.themes.theme import Theme\n",
    "pn.extension()\n",
    "hv.extension('bokeh')\n",
    "theme = Theme(\n",
    "    json = {\n",
    "    \"attrs\": {\n",
    "        \"Legend\": {\n",
    "            \"spacing\": 5,\n",
    "            \"glyph_width\": 10,\n",
    "            \"label_standoff\": 8,\n",
    "            \"label_text_color\": \"#FFFFFF\",\n",
    "            \"label_text_font\": \"Helvetica\",\n",
    "            \"label_text_font_size\": \"1.0em\",\n",
    "            \"border_line_alpha\": 0,\n",
    "            \"background_fill_alpha\": 0.15,\n",
    "            \"background_fill_color\": \"#000000\"\n",
    "        },\n",
    "    }\n",
    "})\n",
    "hv.renderer('bokeh').theme = theme\n",
    "df0 = pd.read_csv('fadn_at_a_glance.csv')"
   ]
  },
  {
   "cell_type": "code",
   "execution_count": null,
   "metadata": {},
   "outputs": [],
   "source": [
    "names = {'SE011': 'T.Hours(hrs)', 'SE025': 'T.Area(ha)', 'SE080': 'Liv.Units(LU)', 'SE131': 'T.Out.(€)',\n",
    "         'SE132': 'T.Out/T.Costs (ratio)', 'SE135': 'Crop.Out (€)', 'SE136': 'Cr.Out/Ha (€/ha)', 'SE206': 'Lv.Out(€)',\n",
    "         'SE207': 'Lv.Out/Lv.Un(€/LU)', 'SE256': 'Oth.Out(€)', 'SE270': 'Tot.Costs(€)', 'SE281': 'T.Sp.Cos(€)',\n",
    "         'SE336': 'T.Far.Ov(€)', 'SE360': 'Depr.(€)', 'SE370': 'Wages(€)', 'SE375': 'Rent(€)', 'SE380': 'Inter.(€)',\n",
    "         'SE405': 'Subs&Tax2(€)', 'SE420': 'Fam.Inc.(€)', 'SE436': 'Tot.Ass.(€)', 'SE441': 'Fixed Assets (€)', 'SE446': 'Land etc (€)',\n",
    "         'SE450': 'Build.(€)', 'SE455': 'Machi(€)', 'SE460': 'Br.liv(€)', 'SE465': 'T.Cur.Ass(€)',\n",
    "         'SE470': 'Non-br.liv(€)', 'SE475': 'Prod.stock', 'SE480': 'Oth.circ.(€)',\n",
    "         'SE600': 'Subs&Tax1(€)', 'SE605': 'Subs.(€)'}"
   ]
  },
  {
   "cell_type": "code",
   "execution_count": null,
   "metadata": {},
   "outputs": [],
   "source": [
    "df1 = df0.groupby(['TF14', 'COUNTRY'])['mean_perc'].mean().reset_index()\n",
    "df1['mean_perc'] = df1.mean_perc.round(1)"
   ]
  },
  {
   "cell_type": "code",
   "execution_count": null,
   "metadata": {},
   "outputs": [],
   "source": [
    "ds = hv.Dataset(df1, kdims=['TF14', 'COUNTRY'], vdims=['mean_perc']).sort()"
   ]
  },
  {
   "cell_type": "code",
   "execution_count": null,
   "metadata": {},
   "outputs": [],
   "source": [
    "levels = [0, 1, 5, 10, 20, 30, 40, 60]\n",
    "heatmap = hv.HeatMap(ds).opts(height=500, width=500, color_levels=levels, xrotation=45,tools=['hover'], \n",
    "                              title='Mean % per Country -- Click on cell', colorbar=True)\n",
    "\n",
    "posxy = hv.streams.Tap(source=heatmap, x='(16) Specialist other fieldcrops', y='(ELL) Greece')\n",
    "\n",
    "over = heatmap * hv.Labels(heatmap).opts(text_font_size='6pt')\n",
    "\n",
    "country  = pnw.Select(name='Country', options=sorted(list(df0.COUNTRY.unique())))\n",
    "tf  = pnw.Select(name='TF14', options=sorted(list(df0.TF14.unique())), value='(16) Specialist other fieldcrops')\n",
    "def up_tf_opts(event):\n",
    "    country.value, tf.value = posxy.contents['y'], posxy.contents['x']\n",
    "posxy.param.watch(up_tf_opts, 'x')\n",
    "posxy.param.watch(up_tf_opts, 'y')\n",
    "\n",
    "@pn.depends(country.param.value, tf.param.value,)    \n",
    "def tap_syntesis(country,tf):\n",
    "    df2 = df0.query('COUNTRY == \"'+ country +'\" and TF14 ==\"' + tf +'\"')\n",
    "    if len(df2.index) < 2:\n",
    "        return pn.Column('NO DATA AVAILABLE',pn.pane.JPG('images.jpg'))\n",
    "    else:\n",
    "        ds1 = hv.Dataset(df2, kdims=['TF14', 'COUNTRY'])\n",
    "        cur420 =  hv.Curve(ds1,'YEAR', 'SE420', label=names['SE420'])\n",
    "        cur131 =  hv.Curve(ds1,'YEAR', 'SE131', label=names['SE131'])\n",
    "        cur605 =  hv.Curve(ds1,'YEAR', 'SE605', label=names['SE605'])\n",
    "        cur270 =  hv.Curve(ds1,'YEAR', 'SE270', label=names['SE270'])\n",
    "        curves = (cur420 * cur131 * cur605 * cur270).relabel(country + ' -- ' + tf).opts(height=250,ylabel='')\n",
    "        cur425 =  hv.Curve(ds1,'YEAR', 'SE425',label='Income/AWU(€)')\n",
    "        cur011 =  hv.Curve(ds1,'YEAR', 'SE011',label=names['SE011'])\n",
    "        cur132 =  hv.Curve(ds1,'YEAR', 'SE132',label=names['SE132'])\n",
    "        cur136 =  hv.Curve(ds1,'YEAR', 'SE136', label=names['SE136'])\n",
    "        cur207 =  hv.Curve(ds1,'YEAR', 'SE207', label=names['SE207'])\n",
    "        lay1 = (curves + cur425 + cur011 + cur132 + cur136 + cur207).cols(3)\n",
    "        lay1.opts(opts.Curve(tools=['hover'], show_grid=True,framewise=True, width=400, height=250,\n",
    "                             xticks=[year for year in range(2004,2019)], xrotation=45),\n",
    "                  opts.Overlay(legend_position='top_left'))\n",
    "        over1 = hv.Area(ds1, 'YEAR','plus').relabel('+POS+') * hv.Area(df2, 'YEAR','miners').opts(fill_alpha=0.5).relabel('-NEG-')\n",
    "        cur1 = hv.Curve(ds1,'YEAR', 'SE420')\n",
    "        over2 =  over1 * cur1.opts(line_dash='dotted', color='g')\n",
    "        ar281 = hv.Area(ds1, 'YEAR','SE281',label=names['SE281'])\n",
    "        ar336 = hv.Area(ds1, 'YEAR','SE336',label=names['SE336'])\n",
    "        ar360 = hv.Area(ds1, 'YEAR','SE360',label=names['SE360'])\n",
    "        ar370 = hv.Area(ds1, 'YEAR','SE370',label=names['SE370'])\n",
    "        ar375 = hv.Area(ds1, 'YEAR','SE375',label=names['SE375'])\n",
    "        ar380 = hv.Area(ds1, 'YEAR','SE380',label=names['SE380'])\n",
    "        over3 = hv.Area.stack(ar281 * ar336 * ar360 * ar370 * ar375 * ar380).opts(title='-NEG-')\n",
    "        ar135 = hv.Area(ds1, 'YEAR','SE135',label=names['SE135'])\n",
    "        ar206 = hv.Area(ds1, 'YEAR','SE206',label=names['SE206'])\n",
    "        ar256 = hv.Area(ds1, 'YEAR','SE256',label=names['SE256'])\n",
    "        ar600 = hv.Area(ds1, 'YEAR','SE600',label=names['SE600'])\n",
    "        ar405 = hv.Area(ds1, 'YEAR','SE405',label=names['SE405'])\n",
    "        over4 =  hv.Area.stack(ar135 * ar206 * ar256 * ar600 * ar405).opts(title='+POS+')\n",
    "        lay2 = over2 + over3 + over4\n",
    "        lay2.opts(opts.Overlay(legend_position='top_left'),\n",
    "                  opts.Area(framewise=True, ylabel='', xrotation=45, width=400))\n",
    "        return pn.Column(lay1,lay2)\n",
    "\n",
    "pn.Row(pn.Column(over,country,tf),pn.Column(tap_syntesis)).show()\n",
    "\n"
   ]
  },
  {
   "cell_type": "code",
   "execution_count": null,
   "metadata": {},
   "outputs": [],
   "source": []
  }
 ],
 "metadata": {
  "kernelspec": {
   "display_name": "Python 3",
   "language": "python",
   "name": "python3"
  },
  "language_info": {
   "codemirror_mode": {
    "name": "ipython",
    "version": 3
   },
   "file_extension": ".py",
   "mimetype": "text/x-python",
   "name": "python",
   "nbconvert_exporter": "python",
   "pygments_lexer": "ipython3",
   "version": "3.7.3"
  }
 },
 "nbformat": 4,
 "nbformat_minor": 4
}
