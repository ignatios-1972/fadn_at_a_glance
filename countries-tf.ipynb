{
 "cells": [
  {
   "cell_type": "code",
   "execution_count": null,
   "metadata": {},
   "outputs": [],
   "source": [
    "import pandas as pd\n",
    "import holoviews as hv\n",
    "from   holoviews import opts\n",
    "import panel as pn\n",
    "hv.extension('bokeh')\n",
    "pn.extension()\n",
    "\n",
    "data = {'name': ['nick', 'david', 'joe', 'ross','nick', 'david', 'joe', 'ross','nick', 'david', 'joe', 'ross'],\n",
    "        'year': [2010,2010,2010,2010,2011,2011,2011,2011,2012,2012,2012,2012],\n",
    "        'grade': [5, 10, 7, 6, 8, 9, 8, 10, 4, 6, 5, 5],\n",
    "        'age'  : [8,9,10,11,9,10,11,12,10,11,12,13]\n",
    "       }  \n",
    "\n",
    "new = pd.DataFrame.from_dict(data)\n",
    "ds = hv.Dataset(new)\n",
    "heatmap = hv.HeatMap(ds, kdims=['name','year'], vdims='grade')\n",
    "posxy = hv.streams.Tap(source=heatmap, x='nick', y='2010')\n",
    "\n",
    "def tap_curves(x,y):\n",
    "    ds = hv.Dataset(new.query('name ==\"'+ x +'\"' ))\n",
    "    curve1 = hv.Curve(ds,'year','grade', label='GRADE')\n",
    "    curve2 = hv.Curve(ds,'year','age', label='AGE')\n",
    "    layout = curve1 * curve2\n",
    "    layout.opts(opts.Curve(framewise=True),\n",
    "                opts.Overlay(title=x, legend_position='top_left', ylabel=''))\n",
    "    return layout\n",
    "dmap = hv.DynamicMap(tap_curves, streams=[posxy])\n",
    "layout = heatmap + dmap\n",
    "pn.Pane(layout).servable()"
   ]
  },
  {
   "cell_type": "code",
   "execution_count": null,
   "metadata": {},
   "outputs": [],
   "source": []
  }
 ],
 "metadata": {
  "kernelspec": {
   "display_name": "Python 3",
   "language": "python",
   "name": "python3"
  },
  "language_info": {
   "codemirror_mode": {
    "name": "ipython",
    "version": 3
   },
   "file_extension": ".py",
   "mimetype": "text/x-python",
   "name": "python",
   "nbconvert_exporter": "python",
   "pygments_lexer": "ipython3",
   "version": "3.7.3"
  }
 },
 "nbformat": 4,
 "nbformat_minor": 4
}
